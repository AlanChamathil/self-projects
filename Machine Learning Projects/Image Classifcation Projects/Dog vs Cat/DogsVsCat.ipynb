{
 "cells": [
  {
   "cell_type": "code",
   "execution_count": null,
   "id": "2775eac0",
   "metadata": {},
   "outputs": [],
   "source": [
    "Data Preprocessing:\n",
    "    #Images are stored with the name of the animal and the image id\n",
    "    #<nameofanimal>.<imageid>\n",
    "    #create a folder called train_images\n",
    "    #inside the train_images folder,create two folders called dogs and cats\n",
    "    #METHOD 1 DOGS/CATS FOLDER\n",
    "    #from train folder gather the images, and place them into dogs and cats folder\n",
    "    #METHOD 2 CSV FILE"
   ]
  },
  {
   "cell_type": "code",
   "execution_count": 17,
   "id": "a4eb862b",
   "metadata": {},
   "outputs": [],
   "source": [
    "import tensorflow as tf\n",
    "import os"
   ]
  },
  {
   "cell_type": "code",
   "execution_count": 34,
   "id": "49b502f4",
   "metadata": {},
   "outputs": [
    {
     "name": "stdout",
     "output_type": "stream",
     "text": [
      "files already exists\n"
     ]
    }
   ],
   "source": [
    "#create the train_images file\n",
    "#create the leaf files called dogs and cat inside the parent folder (train_images)\n",
    "parent_dir = 'train_images'\n",
    "try:\n",
    "    os.makedirs(os.path.join(parent_dir,'dogs'))\n",
    "    os.makedirs(os.path.join(parent_dir,'cats'))\n",
    "    print('files created')\n",
    "except FileExistsError:\n",
    "    print('files already exists')\n"
   ]
  },
  {
   "cell_type": "code",
   "execution_count": null,
   "id": "10b6a7f4",
   "metadata": {},
   "outputs": [],
   "source": [
    "#sort the images from the train which is a collection of dogs and cat images\n",
    "#sort them into the newly created files called dogs and cats\n"
   ]
  }
 ],
 "metadata": {
  "kernelspec": {
   "display_name": "Python 3 (ipykernel)",
   "language": "python",
   "name": "python3"
  },
  "language_info": {
   "codemirror_mode": {
    "name": "ipython",
    "version": 3
   },
   "file_extension": ".py",
   "mimetype": "text/x-python",
   "name": "python",
   "nbconvert_exporter": "python",
   "pygments_lexer": "ipython3",
   "version": "3.9.13"
  }
 },
 "nbformat": 4,
 "nbformat_minor": 5
}
